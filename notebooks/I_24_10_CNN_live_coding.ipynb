{
  "cells": [
    {
      "cell_type": "markdown",
      "metadata": {
        "id": "XEDrFr3_VWQm"
      },
      "source": [
        "<div><center><img src=\"https://ml.ucv.ai/logo.png\\\" width=150\"/> </center></div>\n",
        "\n",
        "# 10 CNN live coding\n",
        "\n",
        "## Versión v.1\n",
        "\n",
        "El notebook lo puedo modificar, esta versión es la v.1 a 23/08/2024 a las 2pm de Caracas.\n",
        "\n",
        "Basado en:\n",
        "- Operaciones: https://docs.opencv.org/3.4/d5/d98/tutorial_mat_operations.html\n",
        "- Blending: https://docs.opencv.org/3.4/d5/dc4/tutorial_adding_images.html\n",
        "- https://cs231n.github.io/convolutional-networks/\n",
        "- “Understanding Convolution in Deep Learning” Dettmers, Tim. TD Blog, 26 Mar 2015.\n",
        "- “Convolutional Neural Networks for Visual Recognition” Li, Fei-Fei et al. Stanford University Courses, Spring 2017.\n",
        "- https://developer.nvidia.com/discover/convolutional-neural-network\n",
        "\n",
        "## Aprendizaje Automático [UCV]\n",
        "\n",
        "* Autor: Fernando Crema García\n",
        "* Contacto: fernando.cremagarcia@kuleuven.be; fernando.cremagarcia@esat.kuleuven.be\n",
        "\n",
        "---"
      ]
    },
    {
      "cell_type": "code",
      "execution_count": null,
      "metadata": {
        "id": "k06FYdbfVReE"
      },
      "outputs": [],
      "source": [
        "# Si quisieran montar google drive\n",
        "from google.colab import drive\n",
        "drive.mount('/content/drive')"
      ]
    },
    {
      "cell_type": "code",
      "execution_count": 2,
      "metadata": {
        "id": "tBcSkiFpVmTq",
        "colab": {
          "base_uri": "https://localhost:8080/"
        },
        "outputId": "d141ddb7-27a5-4fb9-a00e-b719fe9d9d01"
      },
      "outputs": [
        {
          "output_type": "stream",
          "name": "stdout",
          "text": [
            "Fri Aug 23 22:04:14 2024       \n",
            "+---------------------------------------------------------------------------------------+\n",
            "| NVIDIA-SMI 535.104.05             Driver Version: 535.104.05   CUDA Version: 12.2     |\n",
            "|-----------------------------------------+----------------------+----------------------+\n",
            "| GPU  Name                 Persistence-M | Bus-Id        Disp.A | Volatile Uncorr. ECC |\n",
            "| Fan  Temp   Perf          Pwr:Usage/Cap |         Memory-Usage | GPU-Util  Compute M. |\n",
            "|                                         |                      |               MIG M. |\n",
            "|=========================================+======================+======================|\n",
            "|   0  Tesla T4                       Off | 00000000:00:04.0 Off |                    0 |\n",
            "| N/A   34C    P8               9W /  70W |      0MiB / 15360MiB |      0%      Default |\n",
            "|                                         |                      |                  N/A |\n",
            "+-----------------------------------------+----------------------+----------------------+\n",
            "                                                                                         \n",
            "+---------------------------------------------------------------------------------------+\n",
            "| Processes:                                                                            |\n",
            "|  GPU   GI   CI        PID   Type   Process name                            GPU Memory |\n",
            "|        ID   ID                                                             Usage      |\n",
            "|=======================================================================================|\n",
            "|  No running processes found                                                           |\n",
            "+---------------------------------------------------------------------------------------+\n"
          ]
        }
      ],
      "source": [
        "# Pueden ir a Edit > Notebook settings > Hardware accelerator > escoger \"T4 GPU\"\n",
        "# Ver si la GPU está montada correctamente\n",
        "!nvidia-smi"
      ]
    },
    {
      "cell_type": "markdown",
      "metadata": {
        "id": "C2KVP3ThVt4T"
      },
      "source": [
        "# Ejemplo de redes convolucionales CNN con MNIST\n"
      ]
    },
    {
      "cell_type": "code",
      "source": [
        "import torch\n",
        "from torch import nn, optim, functional, utils\n",
        "from torch.utils.data.dataloader import DataLoader\n",
        "import torchvision\n",
        "from torchvision import datasets, utils\n",
        "from torchvision.datasets import MNIST\n",
        "\n",
        "from tqdm import tqdm\n",
        "\n",
        "import time, os\n",
        "\n",
        "import matplotlib.pyplot as plt\n",
        "# use seaborn\n",
        "import seaborn as sns\n",
        "\n",
        "# Apply the default theme\n",
        "sns.set_theme()\n",
        "plt.rcParams[\"figure.dpi\"] = 100\n",
        "plt.rcParams['savefig.dpi'] = 300"
      ],
      "metadata": {
        "id": "-Rry0J4nbRFQ"
      },
      "execution_count": 18,
      "outputs": []
    },
    {
      "cell_type": "code",
      "execution_count": 31,
      "metadata": {
        "id": "-X7wZ07qVny5"
      },
      "outputs": [],
      "source": [
        "def get_mnist_loader(batch_size=100, num_train_samples = 10000, num_test_samples = 2000):\n",
        "    \"\"\"\n",
        "\n",
        "    :return: train_loader, test_loader\n",
        "    \"\"\"\n",
        "    train_dataset = MNIST(root='../data',\n",
        "                          train=True,\n",
        "                          transform=torchvision.transforms.ToTensor(),\n",
        "                          download=True)\n",
        "    test_dataset = MNIST(root='../data',\n",
        "                         train=False,\n",
        "                         transform=torchvision.transforms.ToTensor(),\n",
        "                         download=True)\n",
        "\n",
        "    # Seleccionar aleatoriamente una permutacion de los datasets\n",
        "    train_indices = torch.randperm(len(train_dataset))[:num_train_samples]\n",
        "    test_indices = torch.randperm(len(test_dataset))[:num_test_samples]\n",
        "\n",
        "    # Crear subset random samplers\n",
        "    train_subset_sampler = torch.utils.data.SubsetRandomSampler(train_indices)\n",
        "    test_subset_sampler = torch.utils.data.SubsetRandomSampler(test_indices)\n",
        "\n",
        "    train_loader = torch.utils.data.DataLoader(dataset=train_dataset,\n",
        "                                               batch_size=batch_size,\n",
        "                                               sampler = train_subset_sampler)\n",
        "    test_loader = torch.utils.data.DataLoader(dataset=test_dataset,\n",
        "                                              batch_size=batch_size,\n",
        "                                              sampler = test_subset_sampler)\n",
        "\n",
        "\n",
        "    return train_loader, test_loader"
      ]
    },
    {
      "cell_type": "markdown",
      "metadata": {
        "id": "l8DOJpeycH1L"
      },
      "source": [
        "## Creando una CNN\n",
        "\n",
        "Nuestra CNN constará de 4 capas convolucionales y 2 capas completamente conectadas (lineales).\n",
        "\n",
        "Tener cuidado con las dimensiones de las capas convolucionales al cambiar parámetros como los canales de convolución, kernel_size y stride.\n"
      ]
    },
    {
      "cell_type": "code",
      "source": [
        "# Número de clases\n",
        "# MNIST\n",
        "K = 10 # [0,...,9]\n",
        "\n",
        "# shape del tensor de las imagenes\n",
        "# 1 x 28 x 28\n",
        "\n",
        "# Seccion 1\n",
        "INPUT_CHANNELS = 1 # Grayscale\n",
        "OUTPUT_CHANNELS_1 = 16 # Canales de salida de la capa convolucional\n",
        "KERNEL_SIZE_1 = 3 # dim(k) ^ 2\n",
        "STRIDE_1 = 2\n",
        "PADDING_1 = 1\n",
        "BATCH_NORMALIZATION_1 = 16 # Número de canales de la capa convolucional\n",
        "\n",
        "# Seccion 2\n",
        "INPUT_CHANNELS_2 = OUTPUT_CHANNELS_1 # Hay que tener mucho cuidado entre canales de entrada y canales de salida en cada capa\n",
        "OUTPUT_CHANNELS_2 = 2 * INPUT_CHANNELS_2\n",
        "KERNEL_SIZE_2 = KERNEL_SIZE_1\n",
        "STRIDE_2 = STRIDE_1\n",
        "PADDING_2 = PADDING_1\n",
        "BATCH_NORMALIZATION_2 = OUTPUT_CHANNELS_2\n",
        "\n",
        "# Seccion 3\n",
        "INPUT_CHANNELS_3 = OUTPUT_CHANNELS_2\n",
        "OUTPUT_CHANNELS_3 = INPUT_CHANNELS_3\n",
        "KERNEL_SIZE_3 = KERNEL_SIZE_1\n",
        "STRIDE_3 = STRIDE_1\n",
        "PADDING_3 = PADDING_1\n",
        "BATCH_NORMALIZATION_3 = OUTPUT_CHANNELS_3\n",
        "\n",
        "# Seccion 4\n",
        "INPUT_CHANNELS_4 = OUTPUT_CHANNELS_3\n",
        "OUTPUT_CHANNELS_4 = 2 * INPUT_CHANNELS_4\n",
        "KERNEL_SIZE_4 = KERNEL_SIZE_1 - 1\n",
        "STRIDE_4 = 2\n",
        "PADDING_4 = 0\n",
        "BATCH_NORMALIZATION_4 = OUTPUT_CHANNELS_4\n",
        "\n"
      ],
      "metadata": {
        "id": "-L0T-cZdLsvf"
      },
      "execution_count": 5,
      "outputs": []
    },
    {
      "cell_type": "code",
      "source": [
        "class CNNnet(torch.nn.Module):\n",
        "    def __init__(self):\n",
        "        super(CNNnet,self).__init__()\n",
        "        self.conv1 = torch.nn.Sequential(\n",
        "            # Convolucion 2-D\n",
        "            torch.nn.Conv2d(in_channels=INPUT_CHANNELS, # Canales de entrada\n",
        "                            out_channels=OUTPUT_CHANNELS_1, # Canales de salida\n",
        "                            kernel_size=KERNEL_SIZE_1, # Dimensión del kernel de salida\n",
        "                            stride=STRIDE_1, # stride del kernel\n",
        "                            padding=PADDING_1\n",
        "            ), # padding\n",
        "            # Los datos están normalizados antes de aplicar ReLU\n",
        "            # Tomar en cuenta que num_features=batch_size*num_features*height*width\n",
        "            # Output de salida es (N,C,W,H), ejemplo., (batch_size, canales, ancho, alto)\n",
        "            torch.nn.BatchNorm2d(BATCH_NORMALIZATION_1), # La entrada de BatchNorm2d es igual a los canales de la convolución que la presigue\n",
        "            # Función de activación\n",
        "            torch.nn.ReLU()\n",
        "        )\n",
        "\n",
        "        # Tarea: Doblar salida de canales\n",
        "        # Mismo Kernel size\n",
        "        self.conv2 = torch.nn.Sequential(\n",
        "            torch.nn.Conv2d(\n",
        "                INPUT_CHANNELS_2, OUTPUT_CHANNELS_2,\n",
        "                KERNEL_SIZE_2 , STRIDE_2, PADDING_2\n",
        "            ), # Hay que tener mucho cuidado entre canales de entrada y canales de salida en cada capa\n",
        "            torch.nn.BatchNorm2d(BATCH_NORMALIZATION_2),\n",
        "            torch.nn.ReLU()\n",
        "        )\n",
        "\n",
        "        # Tarea: Mantener número de canales\n",
        "        # Mismo Kernel size\n",
        "\n",
        "        self.conv3 = torch.nn.Sequential(\n",
        "            torch.nn.Conv2d(\n",
        "                INPUT_CHANNELS_3, OUTPUT_CHANNELS_3,\n",
        "                KERNEL_SIZE_3, STRIDE_3, PADDING_3),\n",
        "            torch.nn.BatchNorm2d(BATCH_NORMALIZATION_3),\n",
        "            torch.nn.ReLU()\n",
        "        )\n",
        "\n",
        "        # Tarea: Doblar salida de canales\n",
        "        # Padding en 0\n",
        "        # Disminuir kernel size en 1\n",
        "\n",
        "        self.conv4 = torch.nn.Sequential(\n",
        "            torch.nn.Conv2d(INPUT_CHANNELS_4, OUTPUT_CHANNELS_4,\n",
        "                            KERNEL_SIZE_4, STRIDE_4, 0),\n",
        "            torch.nn.BatchNorm2d(BATCH_NORMALIZATION_4),\n",
        "            torch.nn.ReLU()\n",
        "        )\n",
        "\n",
        "        # Área de clasificación\n",
        "        self.mlp1 = torch.nn.Linear(OUTPUT_CHANNELS_4*KERNEL_SIZE_4*STRIDE_4, 100) #  La dimensión de entrada debe ser la misma a la de salida de la capa anterior\n",
        "        # La capa final debe tener dimensión K\n",
        "        # MNIST tiene K clases\n",
        "        self.mlp2 = torch.nn.Linear(100, K)\n",
        "\n",
        "    # feedforward\n",
        "    def forward(self,x):\n",
        "        x = self.conv1(x)\n",
        "        x = self.conv2(x)\n",
        "        x = self.conv3(x)\n",
        "        x = self.conv4(x)\n",
        "        # flatten tensor to 1-D\n",
        "        x = self.mlp1(x.view(x.size(0),-1))\n",
        "        x = self.mlp2(x)\n",
        "        return x"
      ],
      "metadata": {
        "id": "StVqKfvGKjpj"
      },
      "execution_count": 20,
      "outputs": []
    },
    {
      "cell_type": "markdown",
      "metadata": {
        "id": "bsGqOf9mk6yR"
      },
      "source": [
        "## Función de entrenamiento\n",
        "El proceso de entrenamiento incluye la carga del modelo, la configuración del optimizador y la ejecución en el conjunto de entrenamiento durante las épocas.\n",
        "Después de cada época de entrenamiento, evaluamos el modelo en el conjunto de prueba para almacenar la precisión de la prueba."
      ]
    },
    {
      "cell_type": "code",
      "execution_count": 28,
      "metadata": {
        "id": "tHe1PyUucZGp"
      },
      "outputs": [],
      "source": [
        "def train(model, train_epoch, model_save, train_loader, test_loader) :\n",
        "    # Mover el model a la GPU de ser posible\n",
        "    device = torch.device('cuda' if torch.cuda.is_available() else 'cpu')\n",
        "    model.to(device)\n",
        "\n",
        "    loss_func = nn.CrossEntropyLoss( )\n",
        "    # Usar Adam optimizer\n",
        "    optimizer = torch.optim.Adam(model.parameters( ),lr=0.001)\n",
        "\n",
        "    acc_count = []  # Precisión test\n",
        "    for epoch in tqdm(range(train_epoch)):\n",
        "\n",
        "        model.train()\n",
        "\n",
        "        for i, (x, y) in enumerate(train_loader):\n",
        "            x = x.to(device)  # torch,Size([128,1,28,28])\n",
        "            y = y.to(device)   # torch.Size([128])\n",
        "            # Salida del modelo\n",
        "            out = model(x)  # torch.Size([128,10])\n",
        "            # Evaluar la función de pérdida\n",
        "            loss = loss_func(out, y)\n",
        "\n",
        "            optimizer.zero_grad()\n",
        "            loss.backward()  # backpropagation\n",
        "            optimizer.step()  # Update de los parámetros\n",
        "\n",
        "            # Salvar el modelo cada 20 iteraciones\n",
        "            if i % 20 == 0:\n",
        "                # print('Training Loss:{:.6f} Batch {}/{} '.format(loss.item(), i, len(train_loader)))\n",
        "                torch.save(model, model_save)\n",
        "\n",
        "        # Evaluar el modelo luego de cada época\n",
        "        with torch.no_grad():\n",
        "            model.eval()\n",
        "\n",
        "            true_pred = torch.zeros(1).to(device)\n",
        "            nb_sample = 0\n",
        "\n",
        "            for inputs, targets in test_loader:\n",
        "                inputs = inputs.to(device)\n",
        "                targets = targets.to(device)\n",
        "                outputs = model(inputs)\n",
        "\n",
        "                _, pred = torch.max(outputs, dim=1)\n",
        "\n",
        "                true_pred = true_pred + torch.sum(pred == targets).type(torch.FloatTensor)\n",
        "                nb_sample += len(inputs)\n",
        "\n",
        "            acc = true_pred / nb_sample\n",
        "            acc = acc.item()\n",
        "\n",
        "            acc_count.append(acc)\n",
        "\n",
        "            # print('Época {:d}, Precisión de test: {:.3f} %'.format(epoch, acc * 100))\n",
        "\n",
        "    return acc_count"
      ]
    },
    {
      "cell_type": "markdown",
      "metadata": {
        "id": "fqXo_JIWla_l"
      },
      "source": [
        "## Comencemos con el entrenamiento!\n",
        "\n",
        "La red se entrena para 20 épocas, con un tamaño de `batch` de 100.\n",
        "\n",
        "Podemos ajustar los hiperparámetros aquí si es necesario."
      ]
    },
    {
      "cell_type": "code",
      "execution_count": 29,
      "metadata": {
        "id": "cMjq_kz8guO_"
      },
      "outputs": [],
      "source": [
        "# Ajuste de hiper parámetros\n",
        "train_epoch = 20\n",
        "batch_size = 100\n",
        "shuffle = True\n",
        "\n",
        "# Instanciar el modelo\n",
        "model = CNNnet()\n",
        "\n",
        "# cómo salvar el modelo\n",
        "model_save = './MNIST_CNN/ckpt.pth'\n",
        "\n",
        "import os\n",
        "if not os.path.exists('MNIST_CNN'):\n",
        "    os.mkdir('MNIST_CNN')"
      ]
    },
    {
      "cell_type": "code",
      "execution_count": 30,
      "metadata": {
        "id": "yhijmumReHXc",
        "colab": {
          "base_uri": "https://localhost:8080/"
        },
        "outputId": "72d41813-8dce-48f4-f0ef-0702c102856c"
      },
      "outputs": [
        {
          "output_type": "stream",
          "name": "stderr",
          "text": [
            "100%|██████████| 20/20 [00:35<00:00,  1.76s/it]\n"
          ]
        }
      ],
      "source": [
        "# cargar datos\n",
        "train_loader, test_loader = get_mnist_loader(batch_size=batch_size)\n",
        "\n",
        "# entrenar modelo\n",
        "acc_count = train(model, train_epoch=train_epoch, model_save=model_save, train_loader=train_loader, test_loader=test_loader)"
      ]
    },
    {
      "cell_type": "code",
      "execution_count": 14,
      "metadata": {
        "id": "V4gtbMW6jBRC",
        "colab": {
          "base_uri": "https://localhost:8080/",
          "height": 481
        },
        "outputId": "4e71f3d5-5669-4cd9-b04c-7f38866cd379"
      },
      "outputs": [
        {
          "output_type": "display_data",
          "data": {
            "text/plain": [
              "<Figure size 640x480 with 1 Axes>"
            ],
            "image/png": "[encoded data removed]"
          },
          "metadata": {}
        }
      ],
      "source": [
        "# Plot de la precisión respecto a las épocas\n",
        "plt.plot(range(1, len(acc_count) +1 ), acc_count, marker='.')\n",
        "plt.xticks(range(1, len(acc_count)+1))\n",
        "plt.ylabel('Precisión')\n",
        "plt.xlabel('Epocas')\n",
        "plt.title('Precisión del conjunto de Testing de la CNN')\n",
        "plt.show()"
      ]
    },
    {
      "cell_type": "markdown",
      "source": [
        "# Posibles preguntas\n",
        "\n",
        "1. Grafique en un solo plot la curva de precisión para train y test.\n",
        "1. Repita el experimento de entrenamiento M veces, grafique las M curvas de precisión y además la curva promedio de las M curvas.\n",
        "1. Modifique los valores de learning rate (lr) del optimizador. Cómo se comportan las curvas de precisión?\n",
        "1. Asuma que nuestro clasificador ahora es binario tal que responde a la pregunta f(x) = es par?. Cómo modificaría el dataset? Grafique las curvas ROC para entrenamiento y test ahora que tenemos un setup binario. Repita experimento 2) para este setup y además analice la evolución de AUC a medida que aumentamos las épocas.\n",
        "1. Agregue las componentes de MaxPooling y Dropout. Para qué funcionan? Cuándo sería útil tenerlas? Pruebe distintos valores de `p` en el caso de dropout y analice resultados."
      ],
      "metadata": {
        "id": "Xgq9kR8EIFdH"
      }
    },
    {
      "cell_type": "code",
      "source": [],
      "metadata": {
        "id": "oUMQfybkI-AF"
      },
      "execution_count": null,
      "outputs": []
    }
  ],
  "metadata": {
    "accelerator": "GPU",
    "colab": {
      "gpuType": "T4",
      "provenance": [],
      "toc_visible": true
    },
    "kernelspec": {
      "display_name": "Python 3",
      "name": "python3"
    },
    "language_info": {
      "name": "python"
    }
  },
  "nbformat": 4,
  "nbformat_minor": 0
}